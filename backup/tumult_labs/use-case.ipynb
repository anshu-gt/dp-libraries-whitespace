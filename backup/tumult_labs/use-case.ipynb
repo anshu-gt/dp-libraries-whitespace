{
 "cells": [
  {
   "cell_type": "code",
   "execution_count": null,
   "id": "a1453681-3e7c-4c33-96d9-28d0ade8bdfc",
   "metadata": {},
   "outputs": [],
   "source": [
    "budget_10 = RhoZCDP(total_budget/10)\n",
    "budget_90 = RhoZCDP(total_budget * 9/10)"
   ]
  },
  {
   "cell_type": "code",
   "execution_count": null,
   "id": "896d9134-a216-4800-b405-6757818e366e",
   "metadata": {},
   "outputs": [],
   "source": [
    "histogram = session.evaluate(\n",
    "    QueryBuilder(\"data\")\n",
    "    .groupby(geo_races)\n",
    "    .count(), \n",
    "    privacy_budget=budget_10\n",
    ")"
   ]
  },
  {
   "cell_type": "code",
   "execution_count": null,
   "id": "dd1c1bca-1adf-458d-bd47-244c76465766",
   "metadata": {},
   "outputs": [],
   "source": [
    "hist_with_category = histogram.withColumn(\n",
    "    \"under_threshold\", \n",
    "    \"IF(count < 42, 'true', 'false')\"\n",
    ")"
   ]
  },
  {
   "cell_type": "code",
   "execution_count": null,
   "id": "d634b910-1dc6-47d2-b4bf-5f8b2532732e",
   "metadata": {},
   "outputs": [],
   "source": [
    "session.create_view(\n",
    "    QueryBuilder(\"data\")\n",
    "    .join_public(hist_with_category), \n",
    "    \"data_with_category\"\n",
    ")"
   ]
  },
  {
   "cell_type": "code",
   "execution_count": null,
   "id": "49b4434e-781b-42be-990d-cb457f141abd",
   "metadata": {},
   "outputs": [],
   "source": [
    "new_sessions = session.partition_and_secret(\n",
    "    \"data_with_category\", \n",
    "    privacy_budget=budget_90, \n",
    "    attr_name = \"under_threshold\", \n",
    "    splits={\n",
    "        \"small_groups\": \"true\", \n",
    "        \"large_groups\": \"false\"\n",
    "    }\n",
    ")"
   ]
  },
  {
   "cell_type": "code",
   "execution_count": null,
   "id": "f8c7f449-e701-496a-b692-91ec36bd3e8b",
   "metadata": {},
   "outputs": [],
   "source": [
    "small_session = new _sessions[\"small_groups\"]\n",
    "small_group_counts = small_session_evaluate(\n",
    "    QueryBuilder(\"data_with_category\")\n",
    "        .groupby(geo_races)\n",
    "        .count(), \n",
    "    privacy_budget=budget_90\n",
    ")"
   ]
  },
  {
   "cell_type": "code",
   "execution_count": null,
   "id": "13adf04d-bc98-44e3-bbe3-4254b1d568f8",
   "metadata": {},
   "outputs": [],
   "source": [
    "large_session = new _sessions[\"large_groups\"]\n",
    "large_group_stats = large_session_evaluate(\n",
    "    QueryBuilder(\"data_with_category\")\n",
    "        .groupby(geo_races * age_buckets)\n",
    "        .count(), \n",
    "    privacy_budget=budget_90\n",
    ")"
   ]
  }
 ],
 "metadata": {
  "kernelspec": {
   "display_name": "Python 3 (ipykernel)",
   "language": "python",
   "name": "python3"
  },
  "language_info": {
   "codemirror_mode": {
    "name": "ipython",
    "version": 3
   },
   "file_extension": ".py",
   "mimetype": "text/x-python",
   "name": "python",
   "nbconvert_exporter": "python",
   "pygments_lexer": "ipython3",
   "version": "3.8.11"
  }
 },
 "nbformat": 4,
 "nbformat_minor": 5
}
