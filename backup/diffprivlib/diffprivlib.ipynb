{
 "cells": [
  {
   "cell_type": "code",
   "execution_count": 17,
   "id": "72141302-2bd7-4a24-a2ed-46eada8d93f8",
   "metadata": {},
   "outputs": [],
   "source": [
    "from diffprivlib import BudgetAccountant\n",
    "from diffprivlib.tools import mean, var\n",
    "import diffprivlib as dp\n"
   ]
  },
  {
   "cell_type": "code",
   "execution_count": 15,
   "id": "42405e51-eead-48c2-b53c-2dab01b962f1",
   "metadata": {},
   "outputs": [],
   "source": [
    "import matplotlib.pyplot as plt\n",
    "from numpy.random import random\n",
    "import numpy as np\n",
    "X = random(100)"
   ]
  },
  {
   "cell_type": "code",
   "execution_count": 5,
   "id": "1920e99f-bc32-406e-8203-d85d3efe060e",
   "metadata": {},
   "outputs": [],
   "source": [
    "acc = BudgetAccountant(epsilon=5, delta=0)\n",
    "dp_mean = mean(X, bounds=(0, 1), accountant=acc)"
   ]
  },
  {
   "cell_type": "code",
   "execution_count": 6,
   "id": "d557911f-a299-4d43-b66e-f279ec76174b",
   "metadata": {},
   "outputs": [
    {
     "name": "stdout",
     "output_type": "stream",
     "text": [
      "Error raised <class 'diffprivlib.utils.BudgetError'>: Privacy spend of (1,0) not permissible; will exceed remaining privacy budget.Use BudgetAccountant.remaining() to check remaining budget.\n"
     ]
    }
   ],
   "source": [
    "acc = BudgetAccountant(1.5, 0)\n",
    "\n",
    "dp_mean = mean(X, epsilon=1, bounds=(0, 1), accountant=acc)\n",
    "\n",
    "try:\n",
    "    dp_std = var(X, epsilon=1, bounds=(0, 1), accountant=acc)\n",
    "except Exception as e:\n",
    "    print(\"Error raised {}: {}\".format(type(e), e))"
   ]
  },
  {
   "cell_type": "code",
   "execution_count": 12,
   "id": "3b83ff06-1c9a-4f0e-a575-5628343aa384",
   "metadata": {},
   "outputs": [
    {
     "name": "stdout",
     "output_type": "stream",
     "text": [
      "Total spend: (epsilon=1.618, delta=0.0)\n"
     ]
    }
   ],
   "source": [
    "# Parametrisation: Passed as a parameter (accountant=acc)\n",
    "\n",
    "acc_p = BudgetAccountant()\n",
    "mean(X, epsilon=1.618, bounds=(0, 1), accountant=acc_p)\n",
    "\n",
    "print(\"Total spend: %r\" % (acc_p.total(),))"
   ]
  },
  {
   "cell_type": "code",
   "execution_count": 11,
   "id": "c1fcd6d2-2337-4160-9d8b-095fcb1978a8",
   "metadata": {},
   "outputs": [
    {
     "name": "stdout",
     "output_type": "stream",
     "text": [
      "Total spend: (epsilon=2.718, delta=0.0)\n"
     ]
    }
   ],
   "source": [
    "# Default: Set as a default (set_default())\n",
    "\n",
    "acc_d = BudgetAccountant()\n",
    "acc_d.set_default()\n",
    "mean(X, epsilon=2.718, bounds=(0, 1))\n",
    "\n",
    "print(\"Total spend: %r\" % (acc_d.total(),))"
   ]
  },
  {
   "cell_type": "code",
   "execution_count": 10,
   "id": "6b027d09-b905-4a0a-af26-3a20299b4eee",
   "metadata": {},
   "outputs": [
    {
     "name": "stdout",
     "output_type": "stream",
     "text": [
      "Total spend: (epsilon=3.141, delta=0.0)\n"
     ]
    }
   ],
   "source": [
    "# Context manager: Using \"with\" over a block of code\n",
    "\n",
    "with BudgetAccountant() as acc_w:\n",
    "    mean(X, epsilon=1.5705, bounds=(0, 1))\n",
    "    var(X, epsilon=1.5705, bounds=(0, 1))\n",
    "\n",
    "print(\"Total spend: %r\" % (acc_w.total(),))"
   ]
  },
  {
   "cell_type": "markdown",
   "id": "08b72eec-97c6-4c93-baea-503658085cb0",
   "metadata": {},
   "source": [
    "## Setting the slack¶\n",
    "Composition of privacy budgets typically add up linearly, that is unless you allow a slack in your delta. This is governed by the slack parameter in the initialisation.\n",
    "\n",
    "The benefit of a non-zero slack is especially evident when many queries are being asked."
   ]
  },
  {
   "cell_type": "code",
   "execution_count": 13,
   "id": "ebb3db54-101b-4073-979b-1e582b326c76",
   "metadata": {},
   "outputs": [
    {
     "data": {
      "text/plain": [
       "<matplotlib.legend.Legend at 0x13bd75fd0>"
      ]
     },
     "execution_count": 13,
     "metadata": {},
     "output_type": "execute_result"
    },
    {
     "data": {
      "image/png": "[encoded data removed]",
      "text/plain": [
       "<Figure size 432x288 with 1 Axes>"
      ]
     },
     "metadata": {
      "needs_background": "light"
     },
     "output_type": "display_data"
    }
   ],
   "source": [
    "acc_n = BudgetAccountant()\n",
    "acc_a = BudgetAccountant(slack=1e-3)\n",
    "epsilon, queries = 2**-6, 30\n",
    "\n",
    "budget_naive = [0] + [acc_n.spend(epsilon, 0).total()[0] for i in range(queries)]\n",
    "budget_advanced = [0] + [acc_a.spend(epsilon, 0).total()[0] for i in range(queries)]\n",
    "\n",
    "plt.plot(range(queries + 1), budget_naive, label=\"Naive composition (slack=%g)\" % acc_n.slack)\n",
    "plt.plot(range(queries + 1), budget_advanced, label=\"Advanced composition (slack=%g)\" % acc_a.slack)\n",
    "plt.xlabel(\"Queries\")\n",
    "plt.ylabel(\"Epsilon spent\")\n",
    "plt.xlim(0, queries)\n",
    "plt.ylim(0, None)\n",
    "plt.legend()"
   ]
  },
  {
   "cell_type": "code",
   "execution_count": 19,
   "id": "44e884f7-9ca1-4177-8c88-04bff30c7daa",
   "metadata": {},
   "outputs": [],
   "source": [
    "from sklearn.datasets import fetch_covtype\n",
    "\n",
    "dataset = fetch_covtype()\n",
    "data, labels = dataset.data, dataset.target"
   ]
  },
  {
   "cell_type": "code",
   "execution_count": 41,
   "id": "97e8c3aa-a870-4655-965e-494957fba3bc",
   "metadata": {},
   "outputs": [],
   "source": [
    "acc = dp.BudgetAccountant(1, 0)\n",
    "acc.set_default()\n",
    "\n",
    "eps = 0.04\n",
    "n_examples = data.shape[0]"
   ]
  },
  {
   "cell_type": "code",
   "execution_count": 47,
   "id": "61c39b96-2343-4290-b6ac-0669a563d7c6",
   "metadata": {},
   "outputs": [
    {
     "data": {
      "image/png": "[encoded data removed]",
      "text/plain": [
       "<Figure size 360x252 with 1 Axes>"
      ]
     },
     "metadata": {
      "needs_background": "light"
     },
     "output_type": "display_data"
    }
   ],
   "source": [
    "fig, ax = plt.subplots(1, 1, figsize=(5,3.5))\n",
    "\n",
    "# print(dp.tools.histogram(labels, epsilon=eps, bins=7, range=(1, 8)))\n",
    "ax.bar(np.linspace(1, 7, 7), dp.tools.histogram(labels, epsilon=eps, bins=7, range=(1, 8))[0] / n_examples)\n",
    "ax.set_title(\"Label counts\")\n",
    "plt.show()"
   ]
  },
  {
   "cell_type": "code",
   "execution_count": 49,
   "id": "9c4af951-6029-4453-aa80-c64ff3111851",
   "metadata": {},
   "outputs": [
    {
     "data": {
      "text/plain": [
       "(epsilon=0.2, delta=0.0)"
      ]
     },
     "execution_count": 49,
     "metadata": {},
     "output_type": "execute_result"
    }
   ],
   "source": [
    "acc.total()\n"
   ]
  },
  {
   "cell_type": "code",
   "execution_count": 58,
   "id": "56618bd3-e54e-45e1-8307-9a5a532a04f4",
   "metadata": {},
   "outputs": [
    {
     "data": {
      "text/plain": [
       "11"
      ]
     },
     "execution_count": 58,
     "metadata": {},
     "output_type": "execute_result"
    }
   ],
   "source": [
    "len(acc)"
   ]
  },
  {
   "cell_type": "code",
   "execution_count": 50,
   "id": "bf4e0dc4-27bb-4a1d-b038-daed8adf0806",
   "metadata": {},
   "outputs": [
    {
     "data": {
      "text/plain": [
       "(epsilon=0.8, delta=0.0)"
      ]
     },
     "execution_count": 50,
     "metadata": {},
     "output_type": "execute_result"
    }
   ],
   "source": [
    "acc.remaining()\n"
   ]
  },
  {
   "cell_type": "code",
   "execution_count": 51,
   "id": "f64c5fc7-26a8-4b70-a493-575187a71541",
   "metadata": {},
   "outputs": [],
   "source": [
    "ranges = [(1000.0, 4000.0), (0, 360), (0, 66), (0, 1000.0), (0, 1000.0),\n",
    "  (10, 10000.0), (0, 255), (0, 255), (0, 255), (10, 10000.0), (0, 3), (0, 39)]\n"
   ]
  },
  {
   "cell_type": "code",
   "execution_count": 59,
   "id": "58034a67-a35a-4997-809e-49bceb950f73",
   "metadata": {},
   "outputs": [
    {
     "data": {
      "text/plain": [
       "2959.706864349696"
      ]
     },
     "execution_count": 59,
     "metadata": {},
     "output_type": "execute_result"
    }
   ],
   "source": [
    "dp.tools.mean(data[:, 0], bounds=ranges[0], epsilon=eps)"
   ]
  },
  {
   "cell_type": "code",
   "execution_count": 61,
   "id": "f544435b-c972-479b-9596-35bc26713492",
   "metadata": {},
   "outputs": [
    {
     "data": {
      "text/plain": [
       "79279.19881594364"
      ]
     },
     "execution_count": 61,
     "metadata": {},
     "output_type": "execute_result"
    }
   ],
   "source": [
    "dp.tools.var(data[:, 0], bounds=ranges[0], epsilon=eps)"
   ]
  },
  {
   "cell_type": "code",
   "execution_count": 62,
   "id": "270a8982-83cd-4b48-ad07-2aa8dec39b5a",
   "metadata": {},
   "outputs": [
    {
     "data": {
      "text/plain": [
       "0.4939140671793354"
      ]
     },
     "execution_count": 62,
     "metadata": {},
     "output_type": "execute_result"
    }
   ],
   "source": [
    "dp.tools.count_nonzero(data[:, 0] >= 3000, epsilon=eps) / n_examples"
   ]
  },
  {
   "cell_type": "code",
   "execution_count": null,
   "id": "ef76dfb2-bc8e-4c0a-9769-238a79b7ce52",
   "metadata": {},
   "outputs": [],
   "source": []
  }
 ],
 "metadata": {
  "kernelspec": {
   "display_name": "Python 3 (ipykernel)",
   "language": "python",
   "name": "python3"
  },
  "language_info": {
   "codemirror_mode": {
    "name": "ipython",
    "version": 3
   },
   "file_extension": ".py",
   "mimetype": "text/x-python",
   "name": "python",
   "nbconvert_exporter": "python",
   "pygments_lexer": "ipython3",
   "version": "3.8.11"
  }
 },
 "nbformat": 4,
 "nbformat_minor": 5
}
