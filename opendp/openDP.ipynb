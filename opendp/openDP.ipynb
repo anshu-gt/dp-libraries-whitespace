{
 "cells": [
  {
   "cell_type": "markdown",
   "id": "ea54f65e-9a54-4aea-a1d4-cf93b6c0a6a7",
   "metadata": {},
   "source": [
    "### OpenDP\n",
    "\n",
    "Version: 0.5.0 (latest)\n",
    "\n",
    "OpenDP is a community effort to build trustworthy, open source software tools for statistical analysis of sensitive private data using differential privacy.\n",
    "\n",
    "Various tools build upon the OpenDP library and are known (along with the library itself) as the OpenDP Commons. The OpenDP library and examples of these tools are shown in the diagram below.\n",
    "\n",
    "Data scientists and others who are more interested in a graphical user interface should review the offerings in the OpenDP Commons.\n"
   ]
  },
  {
   "cell_type": "code",
   "execution_count": 7,
   "id": "702f4073-2858-42f1-9933-b4f73dbb8f64",
   "metadata": {},
   "outputs": [],
   "source": [
    "from opendp.mod import enable_features\n",
    "enable_features('contrib')"
   ]
  },
  {
   "cell_type": "code",
   "execution_count": 9,
   "id": "20932ead-eee9-43f6-b704-62e160a507f8",
   "metadata": {},
   "outputs": [],
   "source": [
    "from opendp.trans import make_identity\n",
    "from opendp.typing import VectorDomain, AllDomain, SymmetricDistance"
   ]
  },
  {
   "cell_type": "code",
   "execution_count": 10,
   "id": "c0352352-c67f-4ae8-99af-0b0ffad36658",
   "metadata": {},
   "outputs": [],
   "source": [
    "identity = make_identity(D=VectorDomain[AllDomain[str]], M=SymmetricDistance)"
   ]
  },
  {
   "cell_type": "code",
   "execution_count": 11,
   "id": "9790eeef-d1ba-4fd6-b462-770856c540ef",
   "metadata": {},
   "outputs": [
    {
     "data": {
      "text/plain": [
       "['Hello, world!']"
      ]
     },
     "execution_count": 11,
     "metadata": {},
     "output_type": "execute_result"
    }
   ],
   "source": [
    "identity([\"Hello, world!\"])"
   ]
  },
  {
   "cell_type": "code",
   "execution_count": 6,
   "id": "90099d50-3248-449e-bbe0-d17f6fce5bbb",
   "metadata": {},
   "outputs": [],
   "source": [
    "import opendp.comb\n",
    "import opendp.core\n",
    "import opendp.meas\n",
    "import opendp.mod\n",
    "import opendp.trans\n",
    "import opendp.typing\n",
    "import opendp.accuracy"
   ]
  },
  {
   "cell_type": "code",
   "execution_count": 7,
   "id": "8ef5395a-86fd-4c5d-b468-9449d6aa7987",
   "metadata": {},
   "outputs": [],
   "source": [
    "from opendp.meas  import make_base_discrete_gaussian "
   ]
  },
  {
   "cell_type": "code",
   "execution_count": null,
   "id": "0ff7be01-38aa-474a-b5eb-ccb9d40a6064",
   "metadata": {},
   "outputs": [],
   "source": [
    "make_base_discrete_gaussian(10, )"
   ]
  }
 ],
 "metadata": {
  "kernelspec": {
   "display_name": "Python 3 (ipykernel)",
   "language": "python",
   "name": "python3"
  },
  "language_info": {
   "codemirror_mode": {
    "name": "ipython",
    "version": 3
   },
   "file_extension": ".py",
   "mimetype": "text/x-python",
   "name": "python",
   "nbconvert_exporter": "python",
   "pygments_lexer": "ipython3",
   "version": "3.8.11"
  }
 },
 "nbformat": 4,
 "nbformat_minor": 5
}
