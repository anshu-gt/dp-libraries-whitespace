{
 "cells": [
  {
   "cell_type": "code",
   "execution_count": 3,
   "id": "3c480d32-257a-4345-8794-e465eb05904f",
   "metadata": {},
   "outputs": [],
   "source": [
    "import os\n",
    "from pyspark import SparkFiles\n",
    "from pyspark.sql import SparkSession\n",
    "from tmlt.analytics.privacy_budget import PureDPBudget\n",
    "from tmlt.analytics.query_builder import QueryBuilder\n",
    "from tmlt.analytics.session import Session"
   ]
  },
  {
   "cell_type": "code",
   "execution_count": 4,
   "id": "80ec8d62-d2bd-44f0-bf01-05a53eebb6dc",
   "metadata": {},
   "outputs": [],
   "source": [
    "spark = SparkSession.builder.getOrCreate()"
   ]
  },
  {
   "cell_type": "code",
   "execution_count": 11,
   "id": "3732fedb-70b5-4f21-a378-5d28adb1fe31",
   "metadata": {},
   "outputs": [],
   "source": [
    "# df = spark.read.csv('simulated_hospital_data.csv', header=True, inferSchema=True)"
   ]
  },
  {
   "cell_type": "code",
   "execution_count": 5,
   "id": "20b8c6f1-9e12-4c3f-9466-37b033bf7c12",
   "metadata": {},
   "outputs": [],
   "source": [
    "# spark.sparkContext.addFile(\n",
    "#     \"https://tumult-public.s3.amazonaws.com/library-members.csv\"\n",
    "# )\n",
    "hosp_df = spark.read.csv(\"simulated_hospital_data.csv\", header=True, inferSchema=True\n",
    ")"
   ]
  },
  {
   "cell_type": "code",
   "execution_count": 6,
   "id": "38ce1ed1-df8c-4a92-90de-04f75688ae0b",
   "metadata": {},
   "outputs": [],
   "source": [
    "session = Session.from_dataframe(\n",
    "    privacy_budget=PureDPBudget(3),\n",
    "    source_id=\"hosp\",\n",
    "    dataframe=hosp_df\n",
    ")"
   ]
  },
  {
   "cell_type": "code",
   "execution_count": 7,
   "id": "8e07aa85-6068-4d5a-9d49-dfbbb76eb22c",
   "metadata": {},
   "outputs": [],
   "source": [
    "count_query = QueryBuilder(\"hosp\").count()"
   ]
  },
  {
   "cell_type": "code",
   "execution_count": 8,
   "id": "b881a2f3-2e7a-4196-8763-8a464cfd36b8",
   "metadata": {},
   "outputs": [
    {
     "name": "stderr",
     "output_type": "stream",
     "text": [
      "/Users/anshusingh/.pyenv/versions/3.8.11/lib/python3.8/site-packages/pyspark/sql/pandas/functions.py:383: UserWarning: In Python 3.6+ and Spark 3.0+, it is preferred to specify type hints for pandas UDF instead of specifying pandas UDF type which will be deprecated in the future releases. See SPARK-28264 for more details.\n",
      "  warnings.warn(\n",
      "                                                                                \r"
     ]
    }
   ],
   "source": [
    "total_count = session.evaluate(\n",
    "    count_query,\n",
    "    privacy_budget=PureDPBudget(epsilon=1)\n",
    ")"
   ]
  },
  {
   "cell_type": "code",
   "execution_count": 9,
   "id": "18a5011e-8219-40ed-bc9e-2daf124905cb",
   "metadata": {},
   "outputs": [
    {
     "name": "stdout",
     "output_type": "stream",
     "text": [
      "+-----+\n",
      "|count|\n",
      "+-----+\n",
      "|  102|\n",
      "+-----+\n",
      "\n"
     ]
    }
   ],
   "source": [
    "total_count.show()"
   ]
  },
  {
   "cell_type": "code",
   "execution_count": 10,
   "id": "26e464c6-84f4-4b87-b550-d94aadeaecb4",
   "metadata": {},
   "outputs": [
    {
     "name": "stderr",
     "output_type": "stream",
     "text": [
      "[Stage 32:>                                                         (0 + 1) / 1]\r"
     ]
    },
    {
     "name": "stdout",
     "output_type": "stream",
     "text": [
      "+-----+\n",
      "|count|\n",
      "+-----+\n",
      "|   13|\n",
      "+-----+\n",
      "\n"
     ]
    },
    {
     "name": "stderr",
     "output_type": "stream",
     "text": [
      "                                                                                \r"
     ]
    }
   ],
   "source": [
    "disease_query = (\n",
    "    QueryBuilder(\"hosp\")\n",
    "    .filter(\"Disease IN ('Mumps', 'Typhoid')\")\n",
    "    .count()\n",
    ")\n",
    "disease_count = session.evaluate(\n",
    "    disease_query,\n",
    "    privacy_budget=PureDPBudget(epsilon=1),\n",
    ")\n",
    "disease_count.show()"
   ]
  },
  {
   "cell_type": "code",
   "execution_count": 11,
   "id": "25b84177-5158-44ad-b052-975cb6589dab",
   "metadata": {},
   "outputs": [
    {
     "name": "stdout",
     "output_type": "stream",
     "text": [
      "PureDPBudget(epsilon=1)\n"
     ]
    }
   ],
   "source": [
    "print(session.remaining_privacy_budget)\n"
   ]
  },
  {
   "cell_type": "code",
   "execution_count": 12,
   "id": "f22606e6-62c8-4def-86ca-4c9a3d49b946",
   "metadata": {},
   "outputs": [
    {
     "name": "stderr",
     "output_type": "stream",
     "text": [
      "                                                                                \r"
     ]
    },
    {
     "name": "stdout",
     "output_type": "stream",
     "text": [
      "+------------------+\n",
      "|       Age_average|\n",
      "+------------------+\n",
      "|51.151515151515156|\n",
      "+------------------+\n",
      "\n"
     ]
    }
   ],
   "source": [
    "mean_age_query = QueryBuilder(\"hosp\").average(\"Age\", low=0, high=120)\n",
    "mean_age = session.evaluate(\n",
    "    mean_age_query,\n",
    "    privacy_budget=PureDPBudget(epsilon=1)\n",
    ")\n",
    "mean_age.show()"
   ]
  }
 ],
 "metadata": {
  "kernelspec": {
   "display_name": "Python 3.8.11 64-bit ('3.8.11')",
   "language": "python",
   "name": "python3"
  },
  "language_info": {
   "codemirror_mode": {
    "name": "ipython",
    "version": 3
   },
   "file_extension": ".py",
   "mimetype": "text/x-python",
   "name": "python",
   "nbconvert_exporter": "python",
   "pygments_lexer": "ipython3",
   "version": "3.8.11"
  },
  "vscode": {
   "interpreter": {
    "hash": "fa82c3a17d49d1c0af02c922c978f549bc5598a3e450a27f171ecd7e2ae21a5a"
   }
  }
 },
 "nbformat": 4,
 "nbformat_minor": 5
}
