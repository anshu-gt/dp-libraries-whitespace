{
 "cells": [
  {
   "cell_type": "code",
   "execution_count": 3,
   "id": "459e3404-379b-4fbe-8941-e1011954bac6",
   "metadata": {},
   "outputs": [
    {
     "name": "stderr",
     "output_type": "stream",
     "text": [
      "22/10/16 18:08:28 WARN NativeCodeLoader: Unable to load native-hadoop library for your platform... using builtin-java classes where applicable\n",
      "Using Spark's default log4j profile: org/apache/spark/log4j-defaults.properties\n",
      "Setting default log level to \"WARN\".\n",
      "To adjust logging level use sc.setLogLevel(newLevel). For SparkR, use setLogLevel(newLevel).\n"
     ]
    }
   ],
   "source": [
    "from pyspark.sql import SparkSession\n",
    "spark = SparkSession.builder.getOrCreate()"
   ]
  },
  {
   "cell_type": "code",
   "execution_count": 2,
   "id": "7e1a13e1-92a5-43e7-8b34-34796ae30c47",
   "metadata": {},
   "outputs": [],
   "source": [
    "from tmlt.core.transformations.spark_transformations.filter import Filter\n",
    "from tmlt.core.transformations.spark_transformations.agg import Count\n",
    "\n",
    "from tmlt.core.measurements.noise_mechanisms import AddGeometricNoise\n",
    "\n",
    "from tmlt.core.domains.spark_domains import convert_spark_schema, SparkDataFrameDomain\n",
    "\n",
    "from tmlt.core.metrics import SymmetricDifference\n",
    "\n",
    "from tmlt.core.utils.misc import print_sdf"
   ]
  },
  {
   "cell_type": "code",
   "execution_count": 4,
   "id": "21a7a518-8e05-4b2a-bed4-c118b7f28844",
   "metadata": {},
   "outputs": [],
   "source": [
    "df = spark.read.csv('simulated_hospital_data.csv', header=True, inferSchema=True)"
   ]
  },
  {
   "cell_type": "code",
   "execution_count": 50,
   "id": "91344cb8-a049-443f-bc67-cf5e403a1cae",
   "metadata": {},
   "outputs": [],
   "source": [
    "import pandas as pd \n",
    "import numpy as np"
   ]
  },
  {
   "cell_type": "code",
   "execution_count": null,
   "id": "b430ecf4-82ee-417f-baf3-186ad0a3df70",
   "metadata": {},
   "outputs": [],
   "source": [
    "nd = NumpyDomain()"
   ]
  },
  {
   "cell_type": "code",
   "execution_count": 5,
   "id": "c4701ae3-9c70-432d-8c6c-b77ea510fa72",
   "metadata": {},
   "outputs": [],
   "source": [
    "from pyspark.sql.types import *\n",
    "spark_schema = StructType(\n",
    "    [StructField(\"Age\", IntegerType())]\n",
    ")\n",
    "tumult_schema = SparkDataFrameDomain(convert_spark_schema(spark_schema))"
   ]
  },
  {
   "cell_type": "code",
   "execution_count": 6,
   "id": "9ae27d66-7b1e-47ff-b411-42c0c47f88b8",
   "metadata": {},
   "outputs": [
    {
     "name": "stdout",
     "output_type": "stream",
     "text": [
      "Noisy count of records with age >= 18:\n",
      "97\n",
      "Privacy loss (epsilon):\n",
      "1/2\n"
     ]
    }
   ],
   "source": [
    "over_18_measurement = (\n",
    "    Filter(filter_expr=\"Age >= 18\", domain=tumult_schema, metric=SymmetricDifference())\n",
    "    | Count(input_domain=tumult_schema, input_metric=SymmetricDifference())\n",
    "    | AddGeometricNoise(2)\n",
    ")\n",
    "print(\"Noisy count of records with age >= 18:\")\n",
    "print(over_18_measurement(df))\n",
    "print(\"Privacy loss (epsilon):\")\n",
    "print(over_18_measurement.privacy_function(1))\n"
   ]
  },
  {
   "cell_type": "markdown",
   "id": "b4e9c4ed-2bf3-4406-b118-90192d8b730a",
   "metadata": {},
   "source": [
    "# Break it down! "
   ]
  },
  {
   "cell_type": "code",
   "execution_count": 7,
   "id": "4da44762-553f-4247-a6c2-2353b2661cca",
   "metadata": {},
   "outputs": [],
   "source": [
    "filter = Filter(filter_expr=\"Age >= 18\", domain=tumult_schema, metric=SymmetricDifference())\n",
    "count = Count(input_domain=tumult_schema, input_metric=SymmetricDifference())\n"
   ]
  },
  {
   "cell_type": "code",
   "execution_count": 8,
   "id": "ac1d7a6e-2e2b-4b79-bbe2-9d22138ce6ce",
   "metadata": {},
   "outputs": [
    {
     "name": "stdout",
     "output_type": "stream",
     "text": [
      "SparkDataFrameDomain(schema={'Age': SparkIntegerColumnDescriptor(allow_null=True, size=32)})\n",
      "SparkDataFrameDomain(schema={'Age': SparkIntegerColumnDescriptor(allow_null=True, size=32)})\n",
      "SymmetricDifference()\n",
      "SymmetricDifference()\n"
     ]
    }
   ],
   "source": [
    "print(filter.input_domain)\n",
    "print(filter.output_domain)\n",
    "print(filter.input_metric)\n",
    "print(filter.output_metric)"
   ]
  },
  {
   "cell_type": "code",
   "execution_count": 9,
   "id": "5ab5657a-b530-4c70-9642-b35d2ebb2468",
   "metadata": {},
   "outputs": [
    {
     "name": "stdout",
     "output_type": "stream",
     "text": [
      "SparkDataFrameDomain(schema={'Age': SparkIntegerColumnDescriptor(allow_null=True, size=32)})\n",
      "NumpyIntegerDomain(size=64)\n",
      "SymmetricDifference()\n",
      "AbsoluteDifference()\n"
     ]
    }
   ],
   "source": [
    "print(count.input_domain)\n",
    "print(count.output_domain)\n",
    "print(count.input_metric)\n",
    "print(count.output_metric)"
   ]
  },
  {
   "cell_type": "code",
   "execution_count": 11,
   "id": "d0dbfa79-7921-4a82-bbfd-09c6461e1441",
   "metadata": {},
   "outputs": [],
   "source": [
    "filter_and_count = filter | count\n"
   ]
  },
  {
   "cell_type": "code",
   "execution_count": 12,
   "id": "af97d702-cc39-46ae-9f3e-675bf48a1163",
   "metadata": {},
   "outputs": [
    {
     "name": "stdout",
     "output_type": "stream",
     "text": [
      "SparkDataFrameDomain(schema={'Age': SparkIntegerColumnDescriptor(allow_null=True, size=32)})\n",
      "NumpyIntegerDomain(size=64)\n",
      "SymmetricDifference()\n",
      "AbsoluteDifference()\n"
     ]
    }
   ],
   "source": [
    "print(filter_and_count.input_domain)\n",
    "print(filter_and_count.output_domain)\n",
    "print(filter_and_count.input_metric)\n",
    "print(filter_and_count.output_metric)"
   ]
  },
  {
   "cell_type": "code",
   "execution_count": 13,
   "id": "a3dc03de-6a17-4ae7-ad22-149482d7bdac",
   "metadata": {},
   "outputs": [
    {
     "name": "stdout",
     "output_type": "stream",
     "text": [
      "True\n"
     ]
    }
   ],
   "source": [
    "print(filter_and_count.stability_relation(1,1))\n",
    "# print(filter_transformation.stability_function(1))"
   ]
  },
  {
   "cell_type": "code",
   "execution_count": 14,
   "id": "becaa931-a5b7-4234-a54c-2258af18f5ef",
   "metadata": {},
   "outputs": [
    {
     "name": "stdout",
     "output_type": "stream",
     "text": [
      "100\n"
     ]
    }
   ],
   "source": [
    "print(filter_and_count(df))\n"
   ]
  },
  {
   "cell_type": "code",
   "execution_count": 15,
   "id": "b30e55f2-156e-44ae-87a4-777787632262",
   "metadata": {},
   "outputs": [],
   "source": [
    "add_noise = AddGeometricNoise(2)"
   ]
  },
  {
   "cell_type": "code",
   "execution_count": 16,
   "id": "105b1f10-5904-4c07-878f-40e68ca7bc2e",
   "metadata": {},
   "outputs": [
    {
     "name": "stdout",
     "output_type": "stream",
     "text": [
      "NumpyIntegerDomain(size=64)\n",
      "AbsoluteDifference()\n",
      "PureDP()\n"
     ]
    }
   ],
   "source": [
    "print(add_noise.input_domain)\n",
    "print(add_noise.input_metric)\n",
    "print(add_noise.output_measure)"
   ]
  },
  {
   "cell_type": "code",
   "execution_count": 17,
   "id": "903d4bed-58c3-4053-8cf7-ff375cc51e35",
   "metadata": {},
   "outputs": [],
   "source": [
    "over_18_measurement = filter_and_count | add_noise\n"
   ]
  },
  {
   "cell_type": "code",
   "execution_count": 18,
   "id": "d930089a-5e97-4b45-acaf-3e6382c09452",
   "metadata": {},
   "outputs": [
    {
     "name": "stdout",
     "output_type": "stream",
     "text": [
      "101\n"
     ]
    }
   ],
   "source": [
    "print(over_18_measurement(df))\n"
   ]
  },
  {
   "cell_type": "code",
   "execution_count": 19,
   "id": "583a6fbe-9898-4da1-a902-e8abcbc6ec16",
   "metadata": {},
   "outputs": [
    {
     "name": "stdout",
     "output_type": "stream",
     "text": [
      "1/2\n"
     ]
    }
   ],
   "source": [
    "print(over_18_measurement.privacy_function(1))"
   ]
  },
  {
   "cell_type": "markdown",
   "id": "8ccc1935-93cb-49f1-a5df-8b94544550d5",
   "metadata": {},
   "source": [
    "The privacy guarantee says, informally, that if you call this function on similar dataframes, you will get statistically similar noisy counts. The privacy_function quantifies this guarantee precisely. By calling this function with an input of 1, we learn how statistically similar the outputs will be for two dataframes that differ by 1 row. The function return value tells us that the noisy counts satisfy -differential privacy with .\n",
    "\n",
    "If we call this function with an input of 2 (dataframes differing by 2 rows), we learn how statistically similar the outputs will be for two dataframes that differ by 2 rows. That is, we learn that the group privacy guarantee: the mechanism satisfies -differential privacy for groups of size 2, with ."
   ]
  },
  {
   "cell_type": "code",
   "execution_count": 20,
   "id": "91a5a8e0-0ab3-4145-aec7-27e5829abc59",
   "metadata": {},
   "outputs": [
    {
     "name": "stdout",
     "output_type": "stream",
     "text": [
      "2\n"
     ]
    }
   ],
   "source": [
    "# group privacy \n",
    "print(over_18_measurement.privacy_function(4))"
   ]
  },
  {
   "cell_type": "code",
   "execution_count": 21,
   "id": "09262c9e-3105-4d74-af7e-f107da345fea",
   "metadata": {},
   "outputs": [],
   "source": [
    "from tmlt.core.measurements.noise_mechanisms import AddGeometricNoise, AddLaplaceNoise, AddDiscreteGaussianNoise"
   ]
  },
  {
   "cell_type": "code",
   "execution_count": 22,
   "id": "0cd051bd-1a2e-4da6-bee7-d21e2c2bb7e7",
   "metadata": {},
   "outputs": [],
   "source": [
    "from tmlt.core.domains.numpy_domains import NumpyIntegerDomain"
   ]
  },
  {
   "cell_type": "code",
   "execution_count": 23,
   "id": "69fb5110-cc28-47ef-b156-77109901ef22",
   "metadata": {},
   "outputs": [
    {
     "name": "stdout",
     "output_type": "stream",
     "text": [
      "<tmlt.core.measurements.noise_mechanisms.AddGeometricNoise object at 0x12b4ab7c0> <tmlt.core.measurements.noise_mechanisms.AddLaplaceNoise object at 0x12b4ab3a0>\n"
     ]
    }
   ],
   "source": [
    "gn = AddGeometricNoise(2) # aplha: noise scale # din/alpha\n",
    "ln = AddLaplaceNoise(NumpyIntegerDomain(32), 2) # din/b\n",
    "gaun = AddDiscreteGaussianNoise(16) # sigma_squared: noise scale # din^2/(2*sigma^2)\n",
    "\n",
    "print(gn, ln)"
   ]
  },
  {
   "cell_type": "code",
   "execution_count": 24,
   "id": "030aba44-7ace-4b2e-8e7e-f154e41b5479",
   "metadata": {},
   "outputs": [],
   "source": [
    "from tmlt.core.utils.parameters import calculate_noise_scale\n",
    "from tmlt.core.measures import PureDP, ApproxDP, RhoZCDP"
   ]
  },
  {
   "cell_type": "markdown",
   "id": "9b4e107a-6313-456b-ad03-906082def536",
   "metadata": {},
   "source": [
    "# utils.parameters"
   ]
  },
  {
   "cell_type": "code",
   "execution_count": 25,
   "id": "1dca4ccb-b9bf-47df-aeb0-b1682419389f",
   "metadata": {},
   "outputs": [
    {
     "data": {
      "text/plain": [
       "1"
      ]
     },
     "execution_count": 25,
     "metadata": {},
     "output_type": "execute_result"
    }
   ],
   "source": [
    "calculate_noise_scale(4, 8, RhoZCDP())\n",
    "# d_in: The absolute distance between neighboring inputs. \n",
    "# d_out: The desired output measure value. \n",
    "# output_measure: RhoZCDP, PureDP the desired privacy gaurantee"
   ]
  },
  {
   "cell_type": "markdown",
   "id": "5143e78b-57c9-4cbb-b665-2b4f6f677625",
   "metadata": {},
   "source": [
    "# converters"
   ]
  },
  {
   "cell_type": "code",
   "execution_count": 26,
   "id": "b1e559fe-4936-4d10-9b63-819b581006ba",
   "metadata": {},
   "outputs": [],
   "source": [
    "from tmlt.core.measurements.converters import PureDPToRhoZCDP, PureDPToApproxDP, RhoZCDPToApproxDP"
   ]
  },
  {
   "cell_type": "code",
   "execution_count": 27,
   "id": "69df270b-7a61-4f63-8c4e-c3c43014713b",
   "metadata": {},
   "outputs": [
    {
     "data": {
      "text/plain": [
       "True"
      ]
     },
     "execution_count": 27,
     "metadata": {},
     "output_type": "execute_result"
    }
   ],
   "source": [
    "rhopdp = PureDPToRhoZCDP(gn)\n",
    "rhopdp.privacy_function(2) # smallest d_out satisified by the measurement p = (epsilon^2)/2\n",
    "rhopdp.privacy_relation(1, 2)"
   ]
  },
  {
   "cell_type": "code",
   "execution_count": 28,
   "id": "db4757f9-4a1f-40c0-ba83-e40289d4d930",
   "metadata": {},
   "outputs": [
    {
     "data": {
      "text/plain": [
       "True"
      ]
     },
     "execution_count": 28,
     "metadata": {},
     "output_type": "execute_result"
    }
   ],
   "source": [
    "pdp = PureDPToApproxDP(gn)\n",
    "pdp.privacy_function(2) # smallest d_out satisified by the measurement p = (epsilon^2)/2\n",
    "pdp.privacy_relation(1, (2, 1))"
   ]
  },
  {
   "cell_type": "code",
   "execution_count": 29,
   "id": "6c524379-5595-4fe3-90d6-c2022644a847",
   "metadata": {},
   "outputs": [
    {
     "data": {
      "text/plain": [
       "True"
      ]
     },
     "execution_count": 29,
     "metadata": {},
     "output_type": "execute_result"
    }
   ],
   "source": [
    "pdp = RhoZCDPToApproxDP(rhopdp)\n",
    "pdp.privacy_relation(1, (2, 1)) # smallest d_out satisified by the measurement p = (epsilon^2)/2\n",
    "# pdp.privacy_relation(1, (2, 1))"
   ]
  },
  {
   "cell_type": "markdown",
   "id": "bff12b02-8b81-4d03-badf-2e9487bd9d64",
   "metadata": {},
   "source": [
    "# [interactive measurements](https://docs.tmlt.dev/core/latest/reference/tmlt/core/measurements/interactive_measurements/index.html#module-tmlt.core.measurements.interactive_measurements) "
   ]
  },
  {
   "cell_type": "code",
   "execution_count": null,
   "id": "72556748-2820-4479-aeb3-2f7cbc6f55f3",
   "metadata": {},
   "outputs": [],
   "source": []
  },
  {
   "cell_type": "code",
   "execution_count": null,
   "id": "bccc7343-6417-4e2f-afb0-bfc8cfc9a3a1",
   "metadata": {},
   "outputs": [],
   "source": []
  },
  {
   "cell_type": "markdown",
   "id": "0a62b2e9-79d2-4490-8314-413a702c2c92",
   "metadata": {},
   "source": [
    "# transformations "
   ]
  },
  {
   "cell_type": "code",
   "execution_count": 30,
   "id": "3af637be-7400-402d-8ff7-7e5c808532c5",
   "metadata": {},
   "outputs": [],
   "source": [
    "from tmlt.core.transformations.chaining import ChainTT"
   ]
  },
  {
   "cell_type": "code",
   "execution_count": 31,
   "id": "59baab45-5a79-4dbc-9274-c33cb5038411",
   "metadata": {},
   "outputs": [],
   "source": [
    "tt = ChainTT(filter, count)"
   ]
  },
  {
   "cell_type": "code",
   "execution_count": 32,
   "id": "608ffafc-6036-4dc7-bfa3-bc2b3f967e94",
   "metadata": {},
   "outputs": [
    {
     "data": {
      "text/plain": [
       "<tmlt.core.transformations.spark_transformations.agg.Count at 0x10fee54f0>"
      ]
     },
     "execution_count": 32,
     "metadata": {},
     "output_type": "execute_result"
    }
   ],
   "source": [
    "tt.transformation1\n",
    "tt.transformation2"
   ]
  },
  {
   "cell_type": "code",
   "execution_count": 33,
   "id": "355ea791-7134-44d0-89ea-78dc1b2b75b6",
   "metadata": {},
   "outputs": [
    {
     "name": "stdout",
     "output_type": "stream",
     "text": [
      "SparkDataFrameDomain(schema={'Age': SparkIntegerColumnDescriptor(allow_null=True, size=32)})\n",
      "SymmetricDifference()\n",
      "NumpyIntegerDomain(size=64)\n",
      "AbsoluteDifference()\n"
     ]
    }
   ],
   "source": [
    "print(tt.input_domain)\n",
    "print(tt.input_metric) \n",
    "print(tt.output_domain) \n",
    "print(tt.output_metric)"
   ]
  },
  {
   "cell_type": "markdown",
   "id": "18bb1282-fe00-4484-b59d-0a361654ab4b",
   "metadata": {},
   "source": [
    "## converters"
   ]
  },
  {
   "cell_type": "code",
   "execution_count": 34,
   "id": "dfc72416-27b8-425f-9191-4de7c2a456d5",
   "metadata": {},
   "outputs": [],
   "source": [
    "# to test\n",
    "from tmlt.core.transformations.converters import UnwrapIfGroupedBy, HammingDistanceToSymmetricDifference"
   ]
  },
  {
   "cell_type": "markdown",
   "id": "7e74ff7f-5244-4dab-8120-5cc9995afd0a",
   "metadata": {},
   "source": [
    "## dictionary"
   ]
  },
  {
   "cell_type": "code",
   "execution_count": 35,
   "id": "05fc13f7-6847-4248-9dc0-be4363d3a8de",
   "metadata": {},
   "outputs": [],
   "source": [
    "from tmlt.core.transformations.dictionary import create_copy_and_transform_value, create_rename, \\\n",
    "create_apply_dict_of_transformations, create_transform_value, create_transform_all_values"
   ]
  },
  {
   "cell_type": "code",
   "execution_count": 36,
   "id": "499ecc27-07a2-49e2-af4a-291b1f9edc22",
   "metadata": {},
   "outputs": [],
   "source": [
    "from tmlt.core.transformations.dictionary import CreateDictFromValue, AugmentDictTransformation, \\\n",
    "Subset, GetValue"
   ]
  },
  {
   "cell_type": "markdown",
   "id": "56037cc2-446f-4e3b-88f9-d3218c9cbfb2",
   "metadata": {},
   "source": [
    "## identitiy "
   ]
  },
  {
   "cell_type": "code",
   "execution_count": 37,
   "id": "31a7bd52-bc12-4cd6-a01c-89933c8f6739",
   "metadata": {},
   "outputs": [],
   "source": [
    "from tmlt.core.transformations.identity import Identity "
   ]
  },
  {
   "cell_type": "markdown",
   "id": "e5bb6140-3d29-4173-8e18-d174c2cca635",
   "metadata": {},
   "source": [
    "## [spark_transformations](https://docs.tmlt.dev/core/latest/reference/tmlt/core/transformations/spark_transformations/index.html#module-tmlt.core.transformations.spark_transformations)"
   ]
  },
  {
   "cell_type": "code",
   "execution_count": 39,
   "id": "4bd4743d-5f96-4137-974e-d8a35ea21cc7",
   "metadata": {},
   "outputs": [],
   "source": [
    "# for manipu;atong spark dataframes \n",
    "from tmlt.core.transformations.spark_transformations import agg, groupby, join, partition, \\\n",
    "persist, rename, select, add_remove_keys, filter, id, nan, truncation \n",
    "\n",
    "# "
   ]
  },
  {
   "cell_type": "markdown",
   "id": "970f2a43-4017-425b-bce2-cc13007574f8",
   "metadata": {},
   "source": [
    "# [metrics](https://docs.tmlt.dev/core/latest/reference/tmlt/core/metrics/index.html#module-tmlt.core.metrics)"
   ]
  },
  {
   "cell_type": "code",
   "execution_count": 44,
   "id": "39df506f-a7ea-403c-8e9d-5e85b7cf8011",
   "metadata": {},
   "outputs": [],
   "source": [
    "import numpy as np\n",
    "from tmlt.core.metrics import Metric, \\\n",
    "                              NullMetric, \\\n",
    "                              ExactNumberMetric, \\\n",
    "                              AbsoluteDifference, \\\n",
    "                              SymmetricDifference, \\\n",
    "                              HammingDistance, \\\n",
    "                              AggregationMetric, \\\n",
    "                              SumOf, \\\n",
    "                              RootSumOfSquared, \\\n",
    "                              OnColumn, \\\n",
    "                              OnColumns, \\\n",
    "                              IfGroupedBy, \\\n",
    "                              DictMetric, \\\n",
    "                              AddRemoveKeys\n",
    "    \n",
    "# .distance, .validate, .compare, .supports_domain"
   ]
  },
  {
   "cell_type": "code",
   "execution_count": 45,
   "id": "7459562c-bd82-4f1c-adeb-5ea762634bcd",
   "metadata": {},
   "outputs": [
    {
     "data": {
      "text/plain": [
       "62"
      ]
     },
     "execution_count": 45,
     "metadata": {},
     "output_type": "execute_result"
    }
   ],
   "source": [
    "AbsoluteDifference().distance(\n",
    "    np.int64(20), np.int64(82), NumpyIntegerDomain()\n",
    ")"
   ]
  },
  {
   "cell_type": "code",
   "execution_count": 46,
   "id": "e6117661-ba8d-4229-9bde-ecafe2e05c56",
   "metadata": {},
   "outputs": [
    {
     "ename": "NameError",
     "evalue": "name 'SparkIntegerColumnDescriptor' is not defined",
     "output_type": "error",
     "traceback": [
      "\u001b[0;31m---------------------------------------------------------------------------\u001b[0m",
      "\u001b[0;31mNameError\u001b[0m                                 Traceback (most recent call last)",
      "Input \u001b[0;32mIn [46]\u001b[0m, in \u001b[0;36m<cell line: 1>\u001b[0;34m()\u001b[0m\n\u001b[1;32m      1\u001b[0m domain \u001b[38;5;241m=\u001b[39m SparkDataFrameDomain(\n\u001b[1;32m      2\u001b[0m     {\n\u001b[0;32m----> 3\u001b[0m         \u001b[38;5;124m\"\u001b[39m\u001b[38;5;124mA\u001b[39m\u001b[38;5;124m\"\u001b[39m: \u001b[43mSparkIntegerColumnDescriptor\u001b[49m(),\n\u001b[1;32m      4\u001b[0m     }\n\u001b[1;32m      5\u001b[0m )\n\u001b[1;32m      7\u001b[0m value1 \u001b[38;5;241m=\u001b[39m spark\u001b[38;5;241m.\u001b[39mcreateDataFrame(\n\u001b[1;32m      8\u001b[0m     pd\u001b[38;5;241m.\u001b[39mDataFrame({\u001b[38;5;124m\"\u001b[39m\u001b[38;5;124mA\u001b[39m\u001b[38;5;124m\"\u001b[39m: [\u001b[38;5;241m1\u001b[39m, \u001b[38;5;241m1\u001b[39m]}),\n\u001b[1;32m      9\u001b[0m )\n\u001b[1;32m     10\u001b[0m value2 \u001b[38;5;241m=\u001b[39m spark\u001b[38;5;241m.\u001b[39mcreateDataFrame(\n\u001b[1;32m     11\u001b[0m     pd\u001b[38;5;241m.\u001b[39mDataFrame({\u001b[38;5;124m\"\u001b[39m\u001b[38;5;124mA\u001b[39m\u001b[38;5;124m\"\u001b[39m: [\u001b[38;5;241m1\u001b[39m, \u001b[38;5;241m1\u001b[39m]})\n\u001b[1;32m     12\u001b[0m )\n",
      "\u001b[0;31mNameError\u001b[0m: name 'SparkIntegerColumnDescriptor' is not defined"
     ]
    }
   ],
   "source": [
    "domain = SparkDataFrameDomain(\n",
    "    {\n",
    "        \"A\": SparkIntegerColumnDescriptor(),\n",
    "    }\n",
    ")\n",
    "\n",
    "value1 = spark.createDataFrame(\n",
    "    pd.DataFrame({\"A\": [1, 1]}),\n",
    ")\n",
    "value2 = spark.createDataFrame(\n",
    "    pd.DataFrame({\"A\": [1, 1]})\n",
    ")\n",
    "\n",
    "SymmetricDifference().distance(\n",
    "    value1, value2, domain\n",
    ")"
   ]
  },
  {
   "cell_type": "code",
   "execution_count": 47,
   "id": "6e7a2fe7-c458-4bac-8d78-8d16adc66a17",
   "metadata": {},
   "outputs": [],
   "source": [
    "# ExactNumberMetric().distance(\n",
    "#     np.int64(20), np.int64(82), NumpyIntegerDomain()\n",
    "# )"
   ]
  },
  {
   "cell_type": "code",
   "execution_count": 48,
   "id": "a3ea3b5e-9ab7-43f3-80d0-9a37144ae136",
   "metadata": {},
   "outputs": [],
   "source": [
    "from pyspark.sql import SparkSession\n",
    "from tmlt.core.domains.spark_domains import (\n",
    "    SparkColumnsDescriptor,\n",
    "    SparkIntegerColumnDescriptor,\n",
    ")\n"
   ]
  },
  {
   "cell_type": "code",
   "execution_count": 51,
   "id": "92d5ed1b-31f5-450e-b015-e26d4719e4a3",
   "metadata": {},
   "outputs": [
    {
     "name": "stderr",
     "output_type": "stream",
     "text": [
      "                                                                                \r"
     ]
    },
    {
     "data": {
      "text/plain": [
       "4"
      ]
     },
     "execution_count": 51,
     "metadata": {},
     "output_type": "execute_result"
    }
   ],
   "source": [
    "spark = SparkSession.builder.getOrCreate()\n",
    "domain = SparkDataFrameDomain(\n",
    "    {\n",
    "        \"A\": SparkIntegerColumnDescriptor(),\n",
    "        \"B\": SparkIntegerColumnDescriptor(),\n",
    "    }\n",
    ")\n",
    "df1 = spark.createDataFrame(\n",
    "    pd.DataFrame({\"A\": [1, 3, 1, 2, 3], \"B\": [2, 2, 2, 4, 3]})\n",
    ")\n",
    "df2 = spark.createDataFrame(pd.DataFrame({\"A\": [1, 2, 1], \"B\": [2, 4, 1]}))\n",
    "SymmetricDifference().distance(df1, df2, domain)"
   ]
  },
  {
   "cell_type": "code",
   "execution_count": 58,
   "id": "0189b149-cebb-4327-9c8f-9278f644c451",
   "metadata": {},
   "outputs": [],
   "source": [
    "from tmlt.core.domains.spark_domains import SparkGroupedDataFrameDomain\n",
    "from tmlt.core.utils.grouped_dataframe import GroupedDataFrame "
   ]
  },
  {
   "cell_type": "code",
   "execution_count": 59,
   "id": "57973b09-0378-451a-b3b2-ef3f1fe71ce4",
   "metadata": {},
   "outputs": [
    {
     "name": "stderr",
     "output_type": "stream",
     "text": [
      "                                                                                \r"
     ]
    },
    {
     "data": {
      "text/plain": [
       "4"
      ]
     },
     "execution_count": 59,
     "metadata": {},
     "output_type": "execute_result"
    }
   ],
   "source": [
    "group_keys = spark.createDataFrame(pd.DataFrame({\"B\": [1, 2, 4]}))\n",
    "domain = SparkGroupedDataFrameDomain(\n",
    "    {\n",
    "        \"A\": SparkIntegerColumnDescriptor(),\n",
    "        \"B\": SparkIntegerColumnDescriptor(),\n",
    "    },\n",
    "    group_keys,\n",
    ")\n",
    "grouped_df1 = GroupedDataFrame(df1, group_keys)\n",
    "grouped_df2 = GroupedDataFrame(df2, group_keys)\n",
    "SymmetricDifference().distance(grouped_df1, grouped_df2, domain)"
   ]
  },
  {
   "cell_type": "code",
   "execution_count": null,
   "id": "b262a836-7962-4d66-b191-cd7b53ebe8d8",
   "metadata": {},
   "outputs": [],
   "source": [
    "spark = SparkSession.builder.getOrCreate()\n",
    "domain = SparkDataFrameDomain(\n",
    "    {\n",
    "        \"A\": SparkIntegerColumnDescriptor(),\n",
    "        \"B\": SparkIntegerColumnDescriptor(),\n",
    "    }\n",
    ")\n",
    "value1 = spark.createDataFrame(\n",
    "    pd.DataFrame({\"A\": [1, 23], \"B\": [3, 1]})\n",
    ")\n",
    "value2 = spark.createDataFrame(\n",
    "    pd.DataFrame({\"A\": [2, 20], \"B\": [1, 8]})\n",
    ")\n",
    "print(OnColumn(\"A\", SumOf(AbsoluteDifference())).distance(value1, value2, domain))\n",
    "\n",
    "print(OnColumn(\"B\", RootSumOfSquared(AbsoluteDifference())).distance(\n",
    "    value1, value2, domain\n",
    "))"
   ]
  },
  {
   "cell_type": "code",
   "execution_count": null,
   "id": "3ed65589-6f7c-4119-8a5d-0eab5a860507",
   "metadata": {},
   "outputs": [],
   "source": [
    "spark = SparkSession.builder.getOrCreate()\n",
    "domain = SparkDataFrameDomain(\n",
    "    {\n",
    "        \"A\": SparkIntegerColumnDescriptor(),\n",
    "        \"B\": SparkIntegerColumnDescriptor(),\n",
    "    }\n",
    ")\n",
    "metric = OnColumns(\n",
    "    [\n",
    "        OnColumn(\"A\", SumOf(AbsoluteDifference())),\n",
    "        OnColumn(\"B\", RootSumOfSquared(AbsoluteDifference())),\n",
    "    ]\n",
    ")\n",
    "value1 = spark.createDataFrame(\n",
    "    pd.DataFrame({\"A\": [1, 23], \"B\": [3, 1]})\n",
    ")\n",
    "value2 = spark.createDataFrame(\n",
    "    pd.DataFrame({\"A\": [2, 20], \"B\": [1, 8]})\n",
    ")\n",
    "metric.distance(value1, value2, domain)\n"
   ]
  },
  {
   "cell_type": "code",
   "execution_count": 55,
   "id": "2a452778-fed5-4ecf-ad6a-2cfcdb1270ab",
   "metadata": {},
   "outputs": [
    {
     "name": "stderr",
     "output_type": "stream",
     "text": [
      "                                                                                \r"
     ]
    },
    {
     "data": {
      "text/plain": [
       "{'x': 9, 'y': 3}"
      ]
     },
     "execution_count": 55,
     "metadata": {},
     "output_type": "execute_result"
    }
   ],
   "source": [
    "from tmlt.core.domains.collections import DictDomain \n",
    "\n",
    "spark = SparkSession.builder.getOrCreate()\n",
    "metric = DictMetric(\n",
    "    {\"x\": AbsoluteDifference(), \"y\": SymmetricDifference()}\n",
    ")\n",
    "domain = DictDomain(\n",
    "    {\n",
    "        \"x\": NumpyIntegerDomain(),\n",
    "        \"y\": SparkDataFrameDomain(\n",
    "            {\n",
    "                \"A\": SparkIntegerColumnDescriptor(),\n",
    "                \"B\": SparkIntegerColumnDescriptor(),\n",
    "            }\n",
    "        ),\n",
    "    }\n",
    ")\n",
    "df1 = spark.createDataFrame(\n",
    "    pd.DataFrame({\"A\": [1, 1, 3], \"B\": [2, 1, 4]})\n",
    ")\n",
    "df2 = spark.createDataFrame(pd.DataFrame({\"A\": [2, 1], \"B\": [1, 1]}))\n",
    "value1 = {\"x\": np.int64(1), \"y\": df1}\n",
    "value2 = {\"x\": np.int64(10), \"y\": df2}\n",
    "metric.distance(value1, value2, domain)"
   ]
  },
  {
   "cell_type": "code",
   "execution_count": 57,
   "id": "fc7d501f-f65b-4b9e-b575-4c97a577d294",
   "metadata": {},
   "outputs": [
    {
     "name": "stderr",
     "output_type": "stream",
     "text": [
      "                                                                                \r"
     ]
    },
    {
     "data": {
      "text/plain": [
       "4"
      ]
     },
     "execution_count": 57,
     "metadata": {},
     "output_type": "execute_result"
    }
   ],
   "source": [
    "# import pandas as pd\n",
    "# from pyspark.sql import SparkSession\n",
    "from tmlt.core.domains.spark_domains import (\n",
    "    SparkIntegerColumnDescriptor,\n",
    "    SparkStringColumnDescriptor,\n",
    ")\n",
    "spark = SparkSession.builder.getOrCreate()\n",
    "domain = DictDomain(\n",
    "    {\n",
    "        1: SparkDataFrameDomain(\n",
    "            {\n",
    "                \"A\": SparkIntegerColumnDescriptor(),\n",
    "                \"B\": SparkIntegerColumnDescriptor(),\n",
    "            },\n",
    "        ),\n",
    "        2: SparkDataFrameDomain(\n",
    "            {\n",
    "                \"C\": SparkIntegerColumnDescriptor(),\n",
    "                \"D\": SparkStringColumnDescriptor(),\n",
    "            },\n",
    "        ),\n",
    "    }\n",
    ")\n",
    "metric = AddRemoveKeys({1: \"A\", 2: \"C\"})\n",
    "# key=1 matches, key=2 is only in value1, key=3 is only in value2, key=4\n",
    "# differs\n",
    "value1 = {\n",
    "    1: spark.createDataFrame(\n",
    "            pd.DataFrame(\n",
    "            {\n",
    "                \"A\": [1, 1, 2],\n",
    "                \"B\": [1, 1, 1],\n",
    "            }\n",
    "        )\n",
    "    ),\n",
    "    2: spark.createDataFrame(\n",
    "        pd.DataFrame(\n",
    "            {\n",
    "                \"C\": [1, 4],\n",
    "                \"D\": [\"1\", \"1\"],\n",
    "            }\n",
    "        )\n",
    "    )\n",
    "}\n",
    "value2 = {\n",
    "    1: spark.createDataFrame(\n",
    "            pd.DataFrame(\n",
    "            {\n",
    "                \"A\": [1, 1, 3],\n",
    "                \"B\": [1, 1, 1],\n",
    "            }\n",
    "        )\n",
    "    ),\n",
    "    2: spark.createDataFrame(\n",
    "        pd.DataFrame(\n",
    "            {\n",
    "                \"C\": [1, 4],\n",
    "                \"D\": [\"1\", \"2\"],\n",
    "            }\n",
    "        )\n",
    "    )\n",
    "}\n",
    "metric.distance(value1, value2, domain)"
   ]
  },
  {
   "cell_type": "code",
   "execution_count": 60,
   "id": "71430d42-1ad8-4df0-89bf-942aa07c6581",
   "metadata": {},
   "outputs": [],
   "source": [
    "from tmlt.core.utils.parameters import calculate_noise_scale"
   ]
  },
  {
   "cell_type": "code",
   "execution_count": 61,
   "id": "534ec5c8-8b08-49b7-b01d-a6aabbdeb46d",
   "metadata": {},
   "outputs": [
    {
     "data": {
      "text/plain": [
       "1"
      ]
     },
     "execution_count": 61,
     "metadata": {},
     "output_type": "execute_result"
    }
   ],
   "source": [
    "calculate_noise_scale(\n",
    "    d_in=1,\n",
    "    d_out=1,\n",
    "    output_measure=PureDP(),\n",
    ")"
   ]
  },
  {
   "cell_type": "code",
   "execution_count": 62,
   "id": "3eac1cd4-78da-46a1-a947-a8854a73572d",
   "metadata": {},
   "outputs": [
    {
     "data": {
      "text/plain": [
       "2"
      ]
     },
     "execution_count": 62,
     "metadata": {},
     "output_type": "execute_result"
    }
   ],
   "source": [
    "calculate_noise_scale(\n",
    "    d_in=2,\n",
    "    d_out=1,\n",
    "    output_measure=PureDP(),\n",
    ")"
   ]
  },
  {
   "cell_type": "code",
   "execution_count": 63,
   "id": "9cb77719-121e-4a0d-be1a-4c4b422c32aa",
   "metadata": {},
   "outputs": [
    {
     "data": {
      "text/plain": [
       "1/2"
      ]
     },
     "execution_count": 63,
     "metadata": {},
     "output_type": "execute_result"
    }
   ],
   "source": [
    "calculate_noise_scale(\n",
    "    d_in=1,\n",
    "    d_out=2,\n",
    "    output_measure=PureDP(),\n",
    ")"
   ]
  },
  {
   "cell_type": "code",
   "execution_count": 64,
   "id": "8ecfe7a5-f626-4d75-89df-8b75007e0971",
   "metadata": {},
   "outputs": [
    {
     "data": {
      "text/plain": [
       "sqrt(2)/2"
      ]
     },
     "execution_count": 64,
     "metadata": {},
     "output_type": "execute_result"
    }
   ],
   "source": [
    "calculate_noise_scale(\n",
    "    d_in=1,\n",
    "    d_out=1,\n",
    "    output_measure=RhoZCDP(),\n",
    ")"
   ]
  },
  {
   "cell_type": "code",
   "execution_count": 65,
   "id": "d55726c5-bd64-4ac0-95c5-4fce8dfbd794",
   "metadata": {},
   "outputs": [
    {
     "data": {
      "text/plain": [
       "sqrt(2)"
      ]
     },
     "execution_count": 65,
     "metadata": {},
     "output_type": "execute_result"
    }
   ],
   "source": [
    "calculate_noise_scale(\n",
    "    d_in=2,\n",
    "    d_out=1,\n",
    "    output_measure=RhoZCDP(),\n",
    ")"
   ]
  },
  {
   "cell_type": "code",
   "execution_count": 66,
   "id": "88673fa8-f6d7-453a-9dc7-362a5480405c",
   "metadata": {},
   "outputs": [
    {
     "data": {
      "text/plain": [
       "1/2"
      ]
     },
     "execution_count": 66,
     "metadata": {},
     "output_type": "execute_result"
    }
   ],
   "source": [
    "calculate_noise_scale(\n",
    "    d_in=1,\n",
    "    d_out=2,\n",
    "    output_measure=RhoZCDP(),\n",
    ")"
   ]
  },
  {
   "cell_type": "code",
   "execution_count": 68,
   "id": "3758fe90-5146-414b-98d8-261c27e0fb6a",
   "metadata": {},
   "outputs": [
    {
     "data": {
      "text/plain": [
       "oo"
      ]
     },
     "execution_count": 68,
     "metadata": {},
     "output_type": "execute_result"
    }
   ],
   "source": [
    "calculate_noise_scale(\n",
    "    d_in=1,\n",
    "    d_out=0,\n",
    "    output_measure=PureDP(),\n",
    ")\n"
   ]
  },
  {
   "cell_type": "code",
   "execution_count": null,
   "id": "cf40e4db-a75e-42c0-9a3d-fcac364cf4af",
   "metadata": {},
   "outputs": [],
   "source": []
  }
 ],
 "metadata": {
  "kernelspec": {
   "display_name": "Python 3 (ipykernel)",
   "language": "python",
   "name": "python3"
  },
  "language_info": {
   "codemirror_mode": {
    "name": "ipython",
    "version": 3
   },
   "file_extension": ".py",
   "mimetype": "text/x-python",
   "name": "python",
   "nbconvert_exporter": "python",
   "pygments_lexer": "ipython3",
   "version": "3.8.11"
  }
 },
 "nbformat": 4,
 "nbformat_minor": 5
}
