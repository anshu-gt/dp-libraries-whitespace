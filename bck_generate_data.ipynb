{
 "cells": [
  {
   "cell_type": "code",
   "execution_count": 1,
   "id": "2ee61ab9-8ebd-4ead-be58-7ce18eab7194",
   "metadata": {},
   "outputs": [],
   "source": [
    "import time\n",
    "import random\n",
    "import pandas as pd\n",
    "from scipy.stats import truncnorm"
   ]
  },
  {
   "cell_type": "code",
   "execution_count": 2,
   "id": "5a12166a-74e8-412b-b84c-b597f5211e63",
   "metadata": {},
   "outputs": [],
   "source": [
    "NO_OF_ROWS = 1000_000_000"
   ]
  },
  {
   "cell_type": "code",
   "execution_count": 3,
   "id": "57851c2c-464a-432b-b241-e6303db64403",
   "metadata": {},
   "outputs": [],
   "source": [
    "# for income generation\n",
    "def get_truncated_normal(mean=0, sd=1, low=0, upp=10):\n",
    "    return truncnorm(\n",
    "        (low - mean) / sd, (upp - mean) / sd, loc=mean, scale=sd)"
   ]
  },
  {
   "cell_type": "markdown",
   "id": "0205c068-e739-47b6-8b72-5afe4706779b",
   "metadata": {},
   "source": [
    "### Age"
   ]
  },
  {
   "cell_type": "code",
   "execution_count": 4,
   "id": "e52f0489-2a7c-4b54-b163-e6b06f6e59e6",
   "metadata": {},
   "outputs": [],
   "source": [
    "age = []\n",
    "for i in range(1, NO_OF_ROWS + 1):\n",
    "    age.append(random.randint(0,120))\n",
    "    \n",
    "df = {}\n",
    "df[\"age\"] = age"
   ]
  },
  {
   "cell_type": "code",
   "execution_count": 5,
   "id": "b7b5068e-e8f2-469a-8a91-7ed831cff56b",
   "metadata": {},
   "outputs": [],
   "source": [
    "df_ = pd.DataFrame(df)"
   ]
  },
  {
   "cell_type": "code",
   "execution_count": 6,
   "id": "c322a38e-3af6-477a-a8b1-3d517c6ec79b",
   "metadata": {},
   "outputs": [],
   "source": [
    "df_.to_csv(\"age.csv\")"
   ]
  },
  {
   "cell_type": "markdown",
   "id": "681ed82a-85aa-4332-8ed9-a1ffcc8e8af4",
   "metadata": {},
   "source": [
    "#### Height"
   ]
  },
  {
   "cell_type": "code",
   "execution_count": 7,
   "id": "41586b6a-716b-4a63-b450-0174dc6f017b",
   "metadata": {},
   "outputs": [
    {
     "data": {
      "text/plain": [
       "751.3586308956146"
      ]
     },
     "execution_count": 7,
     "metadata": {},
     "output_type": "execute_result"
    }
   ],
   "source": [
    "height = []\n",
    "start_time = time.time()\n",
    "\n",
    "for i in range(1, NO_OF_ROWS + 1):\n",
    "    height.append(round(random.uniform(50,200), 2))\n",
    "    \n",
    "df_2 = {}\n",
    "df_2[\"height\"] = height\n",
    "\n",
    "execution_time = float(time.time() - start_time)\n",
    "execution_time"
   ]
  },
  {
   "cell_type": "code",
   "execution_count": null,
   "id": "0071e5c3-aa96-4a04-9614-b160b45f4286",
   "metadata": {},
   "outputs": [],
   "source": [
    "df_2_ = pd.DataFrame(df_2)"
   ]
  },
  {
   "cell_type": "code",
   "execution_count": null,
   "id": "b636345d-1eef-4940-8289-7d66cb9e5be4",
   "metadata": {},
   "outputs": [],
   "source": [
    "df_2_.to_csv(\"height.csv\")"
   ]
  },
  {
   "cell_type": "markdown",
   "id": "e67722d8-81e3-4cb4-9f7f-ad0006f7e231",
   "metadata": {},
   "source": [
    "#### Income"
   ]
  },
  {
   "cell_type": "code",
   "execution_count": null,
   "id": "641ffa50-2a66-4b5c-a111-b82b65ed14e6",
   "metadata": {},
   "outputs": [],
   "source": [
    "df_3 = {}\n",
    "\n",
    "INCOME_RANGE = [3000, 15000]\n",
    "income_generator = get_truncated_normal(mean=0, sd=5000, low=INCOME_RANGE[0], upp=INCOME_RANGE[1])\n",
    "simulated_data[\"income\"] = income_generator.rvs(NO_OF_ROWS)\n",
    "\n",
    "df_3 = {}\n",
    "df_3[\"income\"] = height"
   ]
  },
  {
   "cell_type": "code",
   "execution_count": null,
   "id": "d37e444c-2114-48fa-9173-4ad70794772e",
   "metadata": {},
   "outputs": [],
   "source": [
    "df.to_csv(\"income.csv\")"
   ]
  }
 ],
 "metadata": {
  "kernelspec": {
   "display_name": "Python 3 (ipykernel)",
   "language": "python",
   "name": "python3"
  },
  "language_info": {
   "codemirror_mode": {
    "name": "ipython",
    "version": 3
   },
   "file_extension": ".py",
   "mimetype": "text/x-python",
   "name": "python",
   "nbconvert_exporter": "python",
   "pygments_lexer": "ipython3",
   "version": "3.8.11"
  }
 },
 "nbformat": 4,
 "nbformat_minor": 5
}
